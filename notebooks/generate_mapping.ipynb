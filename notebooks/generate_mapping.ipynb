{
 "metadata": {
  "name": "",
  "signature": "sha256:4a108febab55e41bca95558818de50cc8d91f74910b9692cee9fc1d4ebc1a74a"
 },
 "nbformat": 3,
 "nbformat_minor": 0,
 "worksheets": [
  {
   "cells": [
    {
     "cell_type": "markdown",
     "metadata": {},
     "source": [
      "# Helper to generate configuration files\n",
      "This script helps to generate a coil addressing for any size (height, width). It uses the reference configuration (`config150.json`) to dump a new one corresponding to the requested size and origin (top left, top right, bottom left, bottom right). First adjust the tweakable parameters corresponding to the desired size and then run the rest of the script, the JSON file is saved under `../config`.\n",
      "## Tweakable parameters"
     ]
    },
    {
     "cell_type": "code",
     "collapsed": false,
     "input": [
      "height, width = 15, 20  # Size of the generated configuration"
     ],
     "language": "python",
     "metadata": {},
     "outputs": []
    },
    {
     "cell_type": "code",
     "collapsed": false,
     "input": [
      "origin = \"top\", \"left\" # Where is the 0, 0 coordinate? top/bottom, left/right"
     ],
     "language": "python",
     "metadata": {},
     "outputs": []
    },
    {
     "cell_type": "markdown",
     "metadata": {},
     "source": [
      "## Configuration file generation"
     ]
    },
    {
     "cell_type": "code",
     "collapsed": false,
     "input": [
      "import json"
     ],
     "language": "python",
     "metadata": {},
     "outputs": []
    },
    {
     "cell_type": "code",
     "collapsed": false,
     "input": [
      "mapping = [[0]*width for h in range(height)]"
     ],
     "language": "python",
     "metadata": {},
     "outputs": []
    },
    {
     "cell_type": "code",
     "collapsed": false,
     "input": [
      "address = 0\n",
      "for w in range(width):\n",
      "    coil = range(height) if w%2==0 and origin[0]==\"top\" or w%2==1 and origin[0]==\"bottom\" else range(height-1, -1, -1)\n",
      "    for h in coil:\n",
      "        mapping[h][w] = address\n",
      "        address += 1\n",
      "    if origin[1]==\"right\": raise NotImplementedError(\"left/right coil to be implemented\")"
     ],
     "language": "python",
     "metadata": {},
     "outputs": []
    },
    {
     "cell_type": "code",
     "collapsed": true,
     "input": [
      "mapping"
     ],
     "language": "python",
     "metadata": {},
     "outputs": []
    },
    {
     "cell_type": "code",
     "collapsed": false,
     "input": [
      "with open(\"../arbalet/config/config150.json\") as f:\n",
      "    reference = json.load(f)"
     ],
     "language": "python",
     "metadata": {},
     "outputs": []
    },
    {
     "cell_type": "code",
     "collapsed": false,
     "input": [
      "reference[\"mapping\"] = mapping"
     ],
     "language": "python",
     "metadata": {},
     "outputs": []
    },
    {
     "cell_type": "code",
     "collapsed": false,
     "input": [
      "with open(\"../arbalet/config/config{}.json\".format(height*width), 'w') as f:\n",
      "    json.dump(reference, f, indent=4)"
     ],
     "language": "python",
     "metadata": {},
     "outputs": []
    },
    {
     "cell_type": "markdown",
     "metadata": {},
     "source": [
      "## And then?\n",
      "The configuration file is saved under the `config` directory of your local git repo. You must install this new configuration file before being able to run apps with this configuration. Just save it under the proper location (example: `/usr/local/lib/python2.7/dist-packages/arbalet-0.0.1-py2.7.egg/config/config150.json`) or ask `setup.py` to do this for you."
     ]
    }
   ],
   "metadata": {}
  }
 ]
}